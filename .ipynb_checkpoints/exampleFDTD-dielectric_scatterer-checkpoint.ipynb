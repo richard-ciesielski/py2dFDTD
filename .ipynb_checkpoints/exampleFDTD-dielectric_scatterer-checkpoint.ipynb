{
 "cells": [
  {
   "cell_type": "markdown",
   "metadata": {},
   "source": [
    "# Two dimensional FDTD code for plasmonics"
   ]
  },
  {
   "cell_type": "code",
   "execution_count": 14,
   "metadata": {},
   "outputs": [
    {
     "name": "stdout",
     "output_type": "stream",
     "text": [
      "The autoreload extension is already loaded. To reload it, use:\n",
      "  %reload_ext autoreload\n"
     ]
    }
   ],
   "source": [
    "\"\"\"2D FDTD with YEE-Algorithmus: leapfrog and staggered grid according to \n",
    "    Taflove's book\n",
    "    - in vacuum with Debye material\n",
    "    - BC: PEC and PML\n",
    "    - TE-mode\n",
    "\n",
    "Richard Ciesielski\n",
    "\"\"\"\n",
    "%load_ext autoreload\n",
    "%autoreload 2\n",
    "\n",
    "import numpy\n",
    "from numpy import pi\n",
    "import pylab\n",
    "%matplotlib inline\n",
    "\n",
    "# Simulation libraries:\n",
    "import fdtd_core as core\n",
    "import fdtd_excitations as exc\n",
    "import fdtd_objects as obj\n",
    "import fdtd_visualization as vis\n"
   ]
  },
  {
   "cell_type": "markdown",
   "metadata": {},
   "source": [
    "## Simulation with a dielectric scatterer"
   ]
  },
  {
   "cell_type": "code",
   "execution_count": 17,
   "metadata": {},
   "outputs": [
    {
     "name": "stdout",
     "output_type": "stream",
     "text": [
      "number of nodes : 151 x 121 = 18271 \t time step : 0.194442462462 \t cycles : 514\n",
      "simulation time left:  100 fs, energy:  477277.059732\n",
      "simulation time left:  95 fs, energy:  474114.580388\n",
      "simulation time left:  90 fs, energy:  474457.644082\n",
      "simulation time left:  85 fs, energy:  467218.343821\n",
      "simulation time left:  80 fs, energy:  462512.174514\n",
      "simulation time left:  75 fs, energy:  461867.831003\n",
      "simulation time left:  70 fs, energy:  464408.12947\n",
      "simulation time left:  66 fs, energy:  1.02245547973e+14\n",
      "simulation time left:  61 fs, energy:  4.08544173699e+32\n",
      "simulation time left:  56 fs, energy:  1.75370827629e+51\n",
      "simulation time left:  51 fs, energy:  7.86642185706e+69\n",
      "simulation time left:  46 fs, energy:  1.82989737639e+93\n",
      "simulation time left:  41 fs, energy:  4.5501338437e+124\n",
      "simulation time left:  36 fs, energy:  inf\n"
     ]
    },
    {
     "name": "stderr",
     "output_type": "stream",
     "text": [
      "C:\\Anaconda2\\lib\\site-packages\\ipykernel_launcher.py:57: RuntimeWarning: overflow encountered in square\n",
      "C:\\Anaconda2\\lib\\site-packages\\ipykernel_launcher.py:56: RuntimeWarning: overflow encountered in square\n"
     ]
    },
    {
     "name": "stdout",
     "output_type": "stream",
     "text": [
      "simulation time left:  32 fs, energy:  inf\n",
      "simulation time left:  27 fs, energy:  inf\n",
      "simulation time left:  22 fs, energy:  inf\n"
     ]
    },
    {
     "name": "stderr",
     "output_type": "stream",
     "text": [
      "C:\\Anaconda2\\lib\\site-packages\\ipykernel_launcher.py:57: RuntimeWarning: overflow encountered in add\n",
      "C:\\Anaconda2\\lib\\site-packages\\ipykernel_launcher.py:57: RuntimeWarning: overflow encountered in multiply\n"
     ]
    },
    {
     "name": "stdout",
     "output_type": "stream",
     "text": [
      "simulation time left:  17 fs, energy:  inf\n",
      "simulation time left:  12 fs, energy:  inf\n",
      "simulation time left:  7 fs, energy:  inf\n",
      "simulation time left:  2 fs, energy:  inf\n",
      "done\n"
     ]
    },
    {
     "name": "stderr",
     "output_type": "stream",
     "text": [
      "C:\\Anaconda2\\lib\\site-packages\\matplotlib\\colors.py:950: RuntimeWarning: invalid value encountered in true_divide\n",
      "  resdat /= (vmax - vmin)\n"
     ]
    },
    {
     "data": {
      "image/png": "[encoded data removed]",
      "text/plain": [
       "<matplotlib.figure.Figure at 0xec95e80>"
      ]
     },
     "metadata": {},
     "output_type": "display_data"
    }
   ],
   "source": [
    "# create a mesh:\n",
    "lengthx = 25.\n",
    "lengthy = 20.\n",
    "Nx = 301                            # number of nodes for the E-field\n",
    "dx = lengthx / (Nx - 1)\n",
    "Ny =  int(lengthy / dx + 1)\n",
    "lengthy = (Ny - 1) * dx             # adjust the length\n",
    "\n",
    "# produce a staggered grid with NxN nodes:\n",
    "grid = core.staggered_grid_2D_simple(lengthx, lengthy, Nx, Ny)\n",
    "\n",
    "# add PMLs:\n",
    "grid.addPML(1.5, \"right\", 11., \"full\")\n",
    "grid.addPML(1.5, \"left\", 11., \"full\")\n",
    "grid.addPML(1.5, \"up\", 11.)\n",
    "grid.addPML(1.5, \"down\", 11.)\n",
    "\n",
    "# add scatterer:\n",
    "wp = 4\n",
    "wj = 1\n",
    "gamma = 1\n",
    "obj.addDielectricCircle(grid, \n",
    "    x=10, y=lengthy / 2., R=3., n = 1.5)\n",
    "\n",
    "# add excitation:\n",
    "excitations = []\n",
    "excitations.append(exc.testpulse_x_Exc(x=3.5, H=1, sigma=1, rc=2))\n",
    "\n",
    "# the time step is calculated based on the vacuum speed of light\n",
    "# since we use a material with refractive index > 1, we need to reduce it\n",
    "dt = grid.dt / 2.\n",
    "grid.dt = dt\n",
    "\n",
    "t, t_end = 0, 100.1                 # duration of the simulation\n",
    "cycles = int((t_end - t) / dt)      # total number of cycles\n",
    "time = numpy.linspace(t, t_end, cycles)\n",
    "\n",
    "print \"number of nodes :\",Nx, \"x\", Ny,\"=\", Nx*Ny, \\\n",
    "        \"\\t time step :\",dt,  \"\\t cycles :\", cycles\n",
    "\n",
    "# list of snapshot times\n",
    "t_list = [0, 10, 20, 30, 40, 60, 80,100]\n",
    "S_list = [] # numpy.zeros((len(t_list), grid.Ex.shape))\n",
    "\n",
    "\n",
    "# observation of numerical divergences in Ex,Ey,Hz:\n",
    "bookkeeping = numpy.zeros(cycles)\n",
    "w_probe = 3\n",
    "Ex_w = numpy.zeros(grid.Ex.shape, dtype=complex)\n",
    "Ey_w = numpy.zeros(grid.Ey.shape, dtype=complex)\n",
    "Hz_w = numpy.zeros(grid.Hz.shape, dtype=complex)\n",
    "\n",
    "for i in xrange(cycles):             # main loop\n",
    "    grid.Ex, grid.Ey, grid.Hz = \\\n",
    "            core.CalculationStep_simple(grid, t, excitations)\n",
    "    \n",
    "    # calculate the actual absolute value of the Poynting vector:\n",
    "    S = numpy.sqrt((grid.Ey* grid.Hz[:, :-1])**2 + \n",
    "                                 (grid.Ex[:-1, :-1]  * grid.Hz[:, :-1])**2)\n",
    "    \n",
    "    # keep a snapshot\n",
    "    for t0 in t_list:\n",
    "        if abs(t-t0) < dt / 2:\n",
    "            S_list.append(S)\n",
    "    \n",
    "    # keep track of the convergence\n",
    "    bookkeeping[i] = numpy.sum(S)\n",
    "    \n",
    "    # calculate the Fourier transform at the frequency w_probe\n",
    "    Ex_w+= numpy.exp(1j * t * w_probe) * grid.Ex\n",
    "    Ey_w+= numpy.exp(1j * t * w_probe) * grid.Ey\n",
    "    Hz_w+= numpy.exp(1j * t * w_probe) * grid.Hz\n",
    "    \n",
    "    # print progress:\n",
    "    if cycles > 20:\n",
    "        if i % int(cycles / 20) == 0: print \"simulation time left: \", int(t_end - t), \"fs, energy: \", bookkeeping[i]\n",
    "            \n",
    "    t = t + dt\n",
    "\n",
    "print \"done\"\n",
    "\n",
    "# now plot the snapshots\n",
    "n = len(S_list)\n",
    "\n",
    "norm = 0.\n",
    "for i in range(n):\n",
    "    if norm < S_list[i].max():\n",
    "        norm = S_list[i].max()\n",
    "\n",
    "pylab.figure(figsize=(15,3))\n",
    "for i in range(n):\n",
    "    pylab.subplot(1,n,i+1)\n",
    "    pylab.imshow(S_list[i])\n",
    "    pylab.clim(0, norm)\n",
    "    pylab.axis('off')\n",
    "    pylab.title(str(t_list[i]) +' fs')\n"
   ]
  },
  {
   "cell_type": "markdown",
   "metadata": {},
   "source": [
    "## Postprocessing and Plotting"
   ]
  },
  {
   "cell_type": "code",
   "execution_count": 18,
   "metadata": {
    "scrolled": true
   },
   "outputs": [
    {
     "name": "stderr",
     "output_type": "stream",
     "text": [
      "C:\\Anaconda2\\lib\\site-packages\\ipykernel_launcher.py:1: RuntimeWarning: overflow encountered in square\n",
      "  \"\"\"Entry point for launching an IPython kernel.\n",
      "C:\\Anaconda2\\lib\\site-packages\\ipykernel_launcher.py:1: RuntimeWarning: invalid value encountered in square\n",
      "  \"\"\"Entry point for launching an IPython kernel.\n",
      "C:\\Anaconda2\\lib\\site-packages\\ipykernel_launcher.py:2: RuntimeWarning: overflow encountered in multiply\n",
      "  \n",
      "C:\\Anaconda2\\lib\\site-packages\\ipykernel_launcher.py:2: RuntimeWarning: invalid value encountered in multiply\n",
      "  \n",
      "C:\\Anaconda2\\lib\\site-packages\\ipykernel_launcher.py:2: RuntimeWarning: overflow encountered in square\n",
      "  \n",
      "C:\\Anaconda2\\lib\\site-packages\\ipykernel_launcher.py:2: RuntimeWarning: invalid value encountered in square\n",
      "  \n",
      "C:\\Anaconda2\\lib\\site-packages\\ipykernel_launcher.py:2: RuntimeWarning: overflow encountered in add\n",
      "  \n",
      "C:\\Anaconda2\\lib\\site-packages\\ipykernel_launcher.py:2: RuntimeWarning: invalid value encountered in add\n",
      "  \n"
     ]
    },
    {
     "data": {
      "text/plain": [
       "<matplotlib.text.Text at 0xddf59b0>"
      ]
     },
     "execution_count": 18,
     "metadata": {},
     "output_type": "execute_result"
    },
    {
     "data": {
      "image/png": "[encoded data removed]",
      "text/plain": [
       "<matplotlib.figure.Figure at 0xb5439b0>"
      ]
     },
     "metadata": {},
     "output_type": "display_data"
    }
   ],
   "source": [
    "S_w = numpy.sqrt((Ey_w * Hz_w[:, :-1])**2 + \n",
    "                                 (Ex_w[:-1, :-1]  * Hz_w[:, :-1])**2)\n",
    "\n",
    "pylab.figure(figsize=(15,3))\n",
    "pylab.subplot(121)\n",
    "#pylab.imshow(abs(S_w))\n",
    "vis.plot_matrix(abs(S_w), grid, 0, xlim=(6,25))\n",
    "pylab.colorbar()\n",
    "pylab.title('%d nm' % (2*pi*3e2 / w_probe))\n",
    "pylab.xlabel('x ($\\mu$m)')\n",
    "pylab.ylabel('y ($\\mu$m)')\n",
    "\n",
    "pylab.subplot(122)\n",
    "pylab.semilogy(time, bookkeeping)\n",
    "pylab.xlabel('time (fs)')\n",
    "pylab.ylabel('total energy')"
   ]
  },
  {
   "cell_type": "code",
   "execution_count": null,
   "metadata": {
    "collapsed": true
   },
   "outputs": [],
   "source": []
  }
 ],
 "metadata": {
  "kernelspec": {
   "display_name": "Python 2",
   "language": "python",
   "name": "python2"
  },
  "language_info": {
   "codemirror_mode": {
    "name": "ipython",
    "version": 2
   },
   "file_extension": ".py",
   "mimetype": "text/x-python",
   "name": "python",
   "nbconvert_exporter": "python",
   "pygments_lexer": "ipython2",
   "version": "2.7.13"
  }
 },
 "nbformat": 4,
 "nbformat_minor": 1
}
