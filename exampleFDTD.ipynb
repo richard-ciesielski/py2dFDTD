{
 "cells": [
  {
   "cell_type": "markdown",
   "metadata": {},
   "source": [
    "# Two dimensional FDTD code for plasmonics"
   ]
  },
  {
   "cell_type": "code",
   "execution_count": 86,
   "metadata": {
    "collapsed": false
   },
   "outputs": [
    {
     "name": "stdout",
     "output_type": "stream",
     "text": [
      "The autoreload extension is already loaded. To reload it, use:\n",
      "  %reload_ext autoreload\n"
     ]
    }
   ],
   "source": [
    "\"\"\"2D FDTD with YEE-Algorithmus: leapfrog and staggered grid according to \n",
    "    Taflove's book\n",
    "    - in vacuum with Debye material\n",
    "    - BC: PEC and PML\n",
    "    - TE-mode\n",
    "\n",
    "Richard Ciesielski\n",
    "\"\"\"\n",
    "%load_ext autoreload\n",
    "%autoreload 2\n",
    "\n",
    "from __future__ import division     # 1/2 = .5\n",
    "import numpy\n",
    "import pylab\n",
    "%matplotlib inline\n",
    "\n",
    "# Simulation libraries:\n",
    "from yee_lib_0_4 import *\n",
    "from yee_excitations_0_4 import *\n",
    "from yee_objects_0_4 import *\n",
    "from yee_plot_0_4 import *\n"
   ]
  },
  {
   "cell_type": "markdown",
   "metadata": {},
   "source": [
    "## Setting up the simulation"
   ]
  },
  {
   "cell_type": "code",
   "execution_count": 83,
   "metadata": {
    "collapsed": false
   },
   "outputs": [
    {
     "name": "stdout",
     "output_type": "stream",
     "text": [
      "Plasma frequency:  3\n"
     ]
    }
   ],
   "source": [
    "# create a mesh:\n",
    "lengthx = 15.\n",
    "lengthy = 10.\n",
    "Nx = 301                            # number of nodes for the E-field\n",
    "dx = lengthx / (Nx - 1)\n",
    "Ny =  int(lengthy / dx + 1)\n",
    "lengthy = (Ny - 1) * dx             # adjust the length\n",
    "\n",
    "# produce a staggered grid with NxN nodes:\n",
    "grid = staggered_grid_2D(lengthx, lengthy, Nx, Ny,  Eps0=1, Mu0=1) \n",
    "\n",
    "# add PMLs:\n",
    "grid.addPML(1.5, \"right\", 11., \"full\")\n",
    "grid.addPML(1.5, \"left\", 11., \"full\")\n",
    "grid.addPML(1.5, \"up\", 11.)\n",
    "grid.addPML(1.5, \"down\", 11.)\n",
    "\n",
    "# add scatterer:\n",
    "wp = 3\n",
    "addCircle(grid, \n",
    "    x=10, y=lengthy / 2., R=1., wj=0, wp=wp, gamma=1,  sigma=20)\n",
    "\n",
    "print \"Plasma frequency: \", wp\n",
    "\n",
    "# for later calculations:\n",
    "dummy_grid = staggered_grid_2D(lengthx, lengthy, Nx, Ny, Eps0=1, Mu0=1)\n",
    "\n",
    "# add excitation:\n",
    "excitations = []\n",
    "excitations.append(testpulse_x_Exc(x=4, H=-1, sigma=1, rc=2))\n",
    "\n",
    "dt = grid.dt"
   ]
  },
  {
   "cell_type": "markdown",
   "metadata": {},
   "source": [
    "## Executing the simulation"
   ]
  },
  {
   "cell_type": "code",
   "execution_count": 84,
   "metadata": {
    "collapsed": false
   },
   "outputs": [
    {
     "name": "stdout",
     "output_type": "stream",
     "text": [
      "number of nodes : 301 x 201 = 60501 \t time step : 0.035 \t cycles : 428\n",
      "simulation time left:  15.0\n",
      "simulation time left:  12.025\n",
      "simulation time left:  9.05\n",
      "simulation time left:  6.075\n",
      "simulation time left:  3.1\n",
      "simulation time left:  0.125\n"
     ]
    }
   ],
   "source": [
    "grid.updateConstants()              # absolutely necessary\n",
    "t, t_end = 0, 15.                   # duration of the simulation\n",
    "i = 0\n",
    "cycles = int((t_end - t) / dt)      # total number of cycles\n",
    "\n",
    "print \"number of nodes :\",Nx, \"x\", Ny,\"=\", Nx*Ny, \\\n",
    "        \"\\t time step :\",dt,  \"\\t cycles :\", cycles\n",
    "\n",
    "# observation of numerical divergences in Ex,Ey,Hz:\n",
    "bookkeeping = numpy.zeros((2,cycles))\n",
    "Ex_w = numpy.zeros(grid.Ex.shape, dtype=complex)\n",
    "Ey_w = numpy.zeros(grid.Ey.shape, dtype=complex)\n",
    "Hz_w = numpy.zeros(grid.Hz.shape, dtype=complex)\n",
    "w_probe = wp /2\n",
    "\n",
    "for i in range(cycles):             # main loop\n",
    "    grid.oEx, grid.oEy, grid.oJx, grid.oJy, \\\n",
    "        grid.Ex, grid.Ey, grid.Jx, grid.Jy, grid.Hz = \\\n",
    "            CalculationStep(grid, dummy_grid, t, excitations)\n",
    "    \n",
    "    # print progress:\n",
    "    if cycles > 20:\n",
    "        if i % int(cycles / 5) == 0: print \"simulation time left: \", t_end - t\n",
    "    \n",
    "    # calculate the actual absolute value of the Poynting vector:\n",
    "    S = numpy.sqrt((grid.Ey* grid.Hz[:, :-1])**2 + \n",
    "                                 (grid.Ex[:-1, :-1]  * grid.Hz[:, :-1])**2)\n",
    "    \n",
    "    # keep track of the convergence\n",
    "    bookkeeping[0,i] = numpy.sum(S)\n",
    "    bookkeeping[1,i] = S[int(Ny/2), int(Nx/2)]\n",
    "    \n",
    "    # calculate the Fourier transform\n",
    "    Ex_w+= numpy.exp(1j * t * w_probe) * grid.Ex\n",
    "    Ey_w+= numpy.exp(1j * t * w_probe) * grid.Ey\n",
    "    Hz_w+= numpy.exp(1j * t * w_probe) * grid.Hz\n",
    "\n",
    "    t = t + dt\n",
    "    i = i + 1\n",
    "    "
   ]
  },
  {
   "cell_type": "markdown",
   "metadata": {
    "collapsed": false
   },
   "source": [
    "## Postprocessing and Plotting"
   ]
  },
  {
   "cell_type": "code",
   "execution_count": 85,
   "metadata": {
    "collapsed": false,
    "scrolled": true
   },
   "outputs": [
    {
     "data": {
      "text/plain": [
       "<matplotlib.text.Text at 0xd0b3470>"
      ]
     },
     "execution_count": 85,
     "metadata": {},
     "output_type": "execute_result"
    },
    {
     "data": {
      "image/png": "[encoded data removed]",
      "text/plain": [
       "<matplotlib.figure.Figure at 0x11c8b198>"
      ]
     },
     "metadata": {},
     "output_type": "display_data"
    }
   ],
   "source": [
    "S_w = numpy.sqrt((Ey_w * Hz_w[:, :-1])**2 + \n",
    "                                 (Ex_w[:-1, :-1]  * Hz_w[:, :-1])**2)\n",
    "pylab.figure(figsize=(15,3))\n",
    "pylab.subplot(131)\n",
    "#pylab.imshow(abs(S_w))\n",
    "plot_matrix(abs(S_w), grid, 0, xlim=(6,12))\n",
    "pylab.colorbar()\n",
    "pylab.subplot(132)\n",
    "pylab.semilogy(bookkeeping[0])\n",
    "pylab.xlabel('cycles')\n",
    "pylab.ylabel('total energy')\n",
    "pylab.subplot(133)\n",
    "pylab.plot(bookkeeping[1])\n",
    "pylab.xlabel('cycles')\n",
    "pylab.ylabel('center')"
   ]
  },
  {
   "cell_type": "code",
   "execution_count": 53,
   "metadata": {
    "collapsed": false
   },
   "outputs": [
    {
     "data": {
      "text/plain": [
       "120.5545219150856"
      ]
     },
     "execution_count": 53,
     "metadata": {},
     "output_type": "execute_result"
    }
   ],
   "source": [
    "numpy.sum(S)"
   ]
  },
  {
   "cell_type": "code",
   "execution_count": 72,
   "metadata": {
    "collapsed": false
   },
   "outputs": [
    {
     "data": {
      "text/plain": [
       "1.2566370614359172"
      ]
     },
     "execution_count": 72,
     "metadata": {},
     "output_type": "execute_result"
    }
   ],
   "source": [
    "(2*pi*3e-1/w_probe)"
   ]
  },
  {
   "cell_type": "code",
   "execution_count": 5,
   "metadata": {
    "collapsed": false
   },
   "outputs": [],
   "source": [
    "xlim[0]=2\n"
   ]
  },
  {
   "cell_type": "code",
   "execution_count": 6,
   "metadata": {
    "collapsed": false
   },
   "outputs": [
    {
     "ename": "AttributeError",
     "evalue": "'list' object has no attribute 'to_list'",
     "output_type": "error",
     "traceback": [
      "\u001b[1;31m---------------------------------------------------------------------------\u001b[0m",
      "\u001b[1;31mAttributeError\u001b[0m                            Traceback (most recent call last)",
      "\u001b[1;32m<ipython-input-6-8c4c7ba3f14b>\u001b[0m in \u001b[0;36m<module>\u001b[1;34m()\u001b[0m\n\u001b[1;32m----> 1\u001b[1;33m \u001b[0mxlim\u001b[0m\u001b[1;33m.\u001b[0m\u001b[0mto_list\u001b[0m\u001b[1;33m\u001b[0m\u001b[0m\n\u001b[0m",
      "\u001b[1;31mAttributeError\u001b[0m: 'list' object has no attribute 'to_list'"
     ]
    }
   ],
   "source": [
    "xlim.to_list"
   ]
  },
  {
   "cell_type": "code",
   "execution_count": null,
   "metadata": {
    "collapsed": false
   },
   "outputs": [],
   "source": []
  },
  {
   "cell_type": "code",
   "execution_count": null,
   "metadata": {
    "collapsed": false
   },
   "outputs": [],
   "source": []
  },
  {
   "cell_type": "code",
   "execution_count": null,
   "metadata": {
    "collapsed": false
   },
   "outputs": [],
   "source": []
  },
  {
   "cell_type": "code",
   "execution_count": null,
   "metadata": {
    "collapsed": true
   },
   "outputs": [],
   "source": []
  }
 ],
 "metadata": {
  "kernelspec": {
   "display_name": "Python 2",
   "language": "python",
   "name": "python2"
  },
  "language_info": {
   "codemirror_mode": {
    "name": "ipython",
    "version": 2
   },
   "file_extension": ".py",
   "mimetype": "text/x-python",
   "name": "python",
   "nbconvert_exporter": "python",
   "pygments_lexer": "ipython2",
   "version": "2.7.11"
  }
 },
 "nbformat": 4,
 "nbformat_minor": 0
}
