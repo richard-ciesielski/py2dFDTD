{
 "cells": [
  {
   "cell_type": "markdown",
   "metadata": {},
   "source": [
    "# Two dimensional FDTD code for plasmonics"
   ]
  },
  {
   "cell_type": "code",
   "execution_count": 195,
   "metadata": {
    "collapsed": false
   },
   "outputs": [
    {
     "name": "stdout",
     "output_type": "stream",
     "text": [
      "The autoreload extension is already loaded. To reload it, use:\n",
      "  %reload_ext autoreload\n"
     ]
    }
   ],
   "source": [
    "\"\"\"2D FDTD with YEE-Algorithmus: leapfrog and staggered grid according to \n",
    "    Taflove's book\n",
    "    - in vacuum with Debye material\n",
    "    - BC: PEC and PML\n",
    "    - TE-mode\n",
    "\n",
    "Richard Ciesielski\n",
    "\"\"\"\n",
    "%load_ext autoreload\n",
    "%autoreload 2\n",
    "\n",
    "from __future__ import division     # 1/2 = .5\n",
    "from copy import deepcopy\n",
    "import numpy\n",
    "import pylab\n",
    "%matplotlib inline\n",
    "\n",
    "# Simulation libraries:\n",
    "from yee_lib_0_4 import *\n",
    "from yee_excitations_0_4 import *\n",
    "from yee_objects_0_4 import *\n",
    "from yee_plot_0_4 import *\n"
   ]
  },
  {
   "cell_type": "markdown",
   "metadata": {},
   "source": [
    "## Setting up the simulation"
   ]
  },
  {
   "cell_type": "code",
   "execution_count": 196,
   "metadata": {
    "collapsed": false
   },
   "outputs": [],
   "source": [
    "# create a mesh:\n",
    "lengthx = 10.\n",
    "lengthy = 10.\n",
    "Nx = 88                            # number of nodes for the E-field\n",
    "dx = lengthx / (Nx - 1)\n",
    "Ny =  int(lengthy / dx + 1)\n",
    "lengthy = (Ny - 1) * dx             # adjust the length\n",
    "\n",
    "# produce a staggered grid with NxN nodes:\n",
    "grid = staggered_grid_2D(lengthx, lengthy, Nx, Ny, Eps=1)\n",
    "\n",
    "# add PMLs:\n",
    "grid.addPML(1.5, \"right\", 11., \"full\")\n",
    "grid.addPML(1.5, \"left\", 11., \"full\")\n",
    "grid.addPML(1.5, \"up\", 11.)\n",
    "grid.addPML(1.5, \"down\", 11.)\n",
    "\n",
    "grid.addSFTF_contour(3,6,3,6)"
   ]
  },
  {
   "cell_type": "code",
   "execution_count": 197,
   "metadata": {
    "collapsed": false,
    "scrolled": true
   },
   "outputs": [],
   "source": [
    "# add scatterer:\n",
    "#wp = 5\n",
    "#wj = 1\n",
    "#gamma = 1\n",
    "#addPlasmonicCircle(grid, \n",
    "#    x=10, y=lengthy / 2., R=1., wj=wj, wp=wp, gamma=gamma,  sigma=20)\n",
    "\n",
    "\n",
    "#addDielectricCircle(grid, \n",
    "#    x=10, y=lengthy / 2., R=3., n = 1.5)\n",
    "\n",
    "\n",
    "# add excitation:\n",
    "excitations = []\n",
    "excitations.append(PW_pulse_x_TFSF_Exc(A=1., t0=0., x0=0., dt=1., w0 = 2 * pi * grid.c0 / 0.5))\n",
    "#excitations.append(LineDipole2DHz_Exc(x=4, y=5, H=1, T=5))\n",
    "#excitations.append(LineDipole2DHz_Exc(x=6, y=5, H=1, T=4.5))\n",
    "\n",
    "\n",
    "dt = grid.dt\n",
    "\n",
    "# for later calculations:\n",
    "dummy_grid = deepcopy(grid)"
   ]
  },
  {
   "cell_type": "code",
   "execution_count": 198,
   "metadata": {
    "collapsed": false
   },
   "outputs": [
    {
     "data": {
      "text/plain": [
       "8"
      ]
     },
     "execution_count": 198,
     "metadata": {},
     "output_type": "execute_result"
    }
   ],
   "source": [
    "grid.ij_SFTF\n",
    "#grid.mesh_x.shape\n",
    "8"
   ]
  },
  {
   "cell_type": "markdown",
   "metadata": {},
   "source": [
    "\n",
    "## Executing the simulation"
   ]
  },
  {
   "cell_type": "code",
   "execution_count": 199,
   "metadata": {
    "collapsed": false
   },
   "outputs": [
    {
     "name": "stdout",
     "output_type": "stream",
     "text": [
      "number of nodes : 88 x 88 = 7744 \t time step : 0.0804597701149 \t cycles : 248\n",
      "simulation time left:  20\n",
      "simulation time left:  19.0344827586\n",
      "simulation time left:  18.0689655172\n",
      "simulation time left:  17.1034482759\n",
      "simulation time left:  16.1379310345\n",
      "simulation time left:  15.1724137931\n",
      "simulation time left:  14.2068965517\n",
      "simulation time left:  13.2413793103\n",
      "simulation time left:  12.275862069\n",
      "simulation time left:  11.3103448276\n",
      "simulation time left:  10.3448275862\n",
      "simulation time left:  9.37931034483\n",
      "simulation time left:  8.41379310345\n",
      "simulation time left:  7.44827586207\n",
      "simulation time left:  6.48275862069\n",
      "simulation time left:  5.51724137931\n",
      "simulation time left:  4.55172413793\n",
      "simulation time left:  3.58620689655\n",
      "simulation time left:  2.62068965517\n",
      "simulation time left:  1.65517241379\n",
      "simulation time left:  0.689655172414\n"
     ]
    },
    {
     "data": {
      "text/plain": [
       "[<matplotlib.lines.Line2D at 0x1b5d24e0>]"
      ]
     },
     "execution_count": 199,
     "metadata": {},
     "output_type": "execute_result"
    },
    {
     "data": {
      "image/png": "[encoded data removed]",
      "text/plain": [
       "<matplotlib.figure.Figure at 0x16efeb00>"
      ]
     },
     "metadata": {},
     "output_type": "display_data"
    }
   ],
   "source": [
    "grid.updateConstants()              # absolutely necessary\n",
    "t, t_end = -5, 15                    # duration of the simulation\n",
    "i = 0\n",
    "cycles = int((t_end - t) / dt)      # total number of cycles\n",
    "\n",
    "print \"number of nodes :\",Nx, \"x\", Ny,\"=\", Nx*Ny, \\\n",
    "        \"\\t time step :\",dt,  \"\\t cycles :\", cycles\n",
    "\n",
    "# observation of numerical divergences in Ex,Ey,Hz:\n",
    "bookkeeping = numpy.zeros((2,cycles))\n",
    "Ex_w = numpy.zeros(grid.Ex.shape, dtype=complex)\n",
    "Ey_w = numpy.zeros(grid.Ey.shape, dtype=complex)\n",
    "Hz_w = numpy.zeros(grid.Hz.shape, dtype=complex)\n",
    "\n",
    "for i in range(cycles):             # main loop\n",
    "    grid.oEx, grid.oEy, grid.oJx, grid.oJy, \\\n",
    "        grid.Ex, grid.Ey, grid.Jx, grid.Jy, grid.Hz = \\\n",
    "            CalculationStep(grid, dummy_grid, t, excitations)\n",
    "    \n",
    "    # print progress:\n",
    "    if cycles > 20:\n",
    "        if i % int(cycles / 20) == 0: print \"simulation time left: \", t_end - t\n",
    "    \n",
    "    # calculate the actual absolute value of the Poynting vector:\n",
    "    S = numpy.sqrt((grid.Ey* grid.Hz[:, :-1])**2 + \n",
    "                                 (grid.Ex[:-1, :-1]  * grid.Hz[:, :-1])**2)\n",
    "    \n",
    "    # keep track of the convergence\n",
    "    bookkeeping[0,i] = numpy.sum(S)\n",
    "    bookkeeping[1,i] = S[int(Ny/2), int(Nx/2)]\n",
    "    \n",
    "    # calculate the Fourier transform\n",
    "    #Ex_w+= numpy.exp(1j * t * w_probe) * grid.Ex\n",
    "    #Ey_w+= numpy.exp(1j * t * w_probe) * grid.Ey\n",
    "    #Hz_w+= numpy.exp(1j * t * w_probe) * grid.Hz\n",
    "\n",
    "    t = t + dt\n",
    "    i = i + 1\n",
    "pylab.subplot(121)\n",
    "pylab.imshow(S,interpolation='nearest');pylab.colorbar()\n",
    "pylab.subplot(122)\n",
    "pylab.plot(bookkeeping[0,:])"
   ]
  },
  {
   "cell_type": "markdown",
   "metadata": {
    "collapsed": false
   },
   "source": [
    "## Postprocessing and Plotting"
   ]
  },
  {
   "cell_type": "code",
   "execution_count": 193,
   "metadata": {
    "collapsed": false
   },
   "outputs": [
    {
     "data": {
      "text/plain": [
       "[<matplotlib.lines.Line2D at 0x1b18c588>]"
      ]
     },
     "execution_count": 193,
     "metadata": {},
     "output_type": "execute_result"
    },
    {
     "data": {
      "image/png": "[encoded data removed]",
      "text/plain": [
       "<matplotlib.figure.Figure at 0x1a7bf240>"
      ]
     },
     "metadata": {},
     "output_type": "display_data"
    }
   ],
   "source": [
    "pylab.plot(bookkeeping[1,:])"
   ]
  },
  {
   "cell_type": "code",
   "execution_count": 51,
   "metadata": {
    "collapsed": false,
    "scrolled": true
   },
   "outputs": [
    {
     "data": {
      "text/plain": [
       "<matplotlib.text.Text at 0x10d1ce48>"
      ]
     },
     "execution_count": 51,
     "metadata": {},
     "output_type": "execute_result"
    },
    {
     "data": {
      "image/png": "[encoded data removed]",
      "text/plain": [
       "<matplotlib.figure.Figure at 0x9f60f28>"
      ]
     },
     "metadata": {},
     "output_type": "display_data"
    }
   ],
   "source": [
    "S_w = numpy.sqrt((Ey_w * Hz_w[:, :-1])**2 + \n",
    "                                 (Ex_w[:-1, :-1]  * Hz_w[:, :-1])**2)\n",
    "pylab.figure(figsize=(15,3))\n",
    "pylab.subplot(131)\n",
    "#pylab.imshow(abs(S_w))\n",
    "plot_matrix(abs(S_w), grid, 0, xlim=(6,50))\n",
    "pylab.colorbar()\n",
    "pylab.title('%d nm' % (2*pi*3e2 / w_probe))\n",
    "pylab.subplot(132)\n",
    "pylab.semilogy(bookkeeping[0])\n",
    "pylab.xlabel('cycles')\n",
    "pylab.ylabel('total energy')\n",
    "pylab.subplot(133)\n",
    "pylab.plot(bookkeeping[1])\n",
    "pylab.xlabel('cycles')\n",
    "pylab.ylabel('center')"
   ]
  },
  {
   "cell_type": "code",
   "execution_count": 61,
   "metadata": {
    "collapsed": false,
    "scrolled": true
   },
   "outputs": [
    {
     "data": {
      "text/plain": [
       "4"
      ]
     },
     "execution_count": 61,
     "metadata": {},
     "output_type": "execute_result"
    }
   ],
   "source": [
    "cycles"
   ]
  },
  {
   "cell_type": "code",
   "execution_count": 72,
   "metadata": {
    "collapsed": false
   },
   "outputs": [
    {
     "data": {
      "text/plain": [
       "1.2566370614359172"
      ]
     },
     "execution_count": 72,
     "metadata": {},
     "output_type": "execute_result"
    }
   ],
   "source": [
    "(2*pi*3e-1/w_probe)"
   ]
  },
  {
   "cell_type": "code",
   "execution_count": 5,
   "metadata": {
    "collapsed": false
   },
   "outputs": [],
   "source": [
    "xlim[0]=2\n"
   ]
  },
  {
   "cell_type": "code",
   "execution_count": 6,
   "metadata": {
    "collapsed": false
   },
   "outputs": [
    {
     "ename": "AttributeError",
     "evalue": "'list' object has no attribute 'to_list'",
     "output_type": "error",
     "traceback": [
      "\u001b[1;31m---------------------------------------------------------------------------\u001b[0m",
      "\u001b[1;31mAttributeError\u001b[0m                            Traceback (most recent call last)",
      "\u001b[1;32m<ipython-input-6-8c4c7ba3f14b>\u001b[0m in \u001b[0;36m<module>\u001b[1;34m()\u001b[0m\n\u001b[1;32m----> 1\u001b[1;33m \u001b[0mxlim\u001b[0m\u001b[1;33m.\u001b[0m\u001b[0mto_list\u001b[0m\u001b[1;33m\u001b[0m\u001b[0m\n\u001b[0m",
      "\u001b[1;31mAttributeError\u001b[0m: 'list' object has no attribute 'to_list'"
     ]
    }
   ],
   "source": [
    "xlim.to_list"
   ]
  },
  {
   "cell_type": "code",
   "execution_count": 59,
   "metadata": {
    "collapsed": false
   },
   "outputs": [
    {
     "name": "stdout",
     "output_type": "stream",
     "text": [
      "3.0\n",
      "4.22222222222\n",
      "5.44444444444\n",
      "6.66666666667\n",
      "7.88888888889\n",
      "9.11111111111\n",
      "10.3333333333\n",
      "11.5555555556\n",
      "12.7777777778\n",
      "14.0\n"
     ]
    }
   ],
   "source": [
    "i = numpy.linspace(0,10,10)\n",
    "j = numpy.linspace(3,4,10)\n",
    "#pylab.plot(i,j,'o')\n",
    "\n",
    "ij = numpy.array([i,j])\n",
    "\n",
    "for k,l in zip(i,j):\n",
    "    print(k+l)"
   ]
  },
  {
   "cell_type": "code",
   "execution_count": 63,
   "metadata": {
    "collapsed": false
   },
   "outputs": [
    {
     "data": {
      "text/plain": [
       "array([ 0.,  0.,  0.,  0.,  0.,  0.,  0.,  0.,  0.,  0.])"
      ]
     },
     "execution_count": 63,
     "metadata": {},
     "output_type": "execute_result"
    }
   ],
   "source": [
    "a=numpy.zeros((10,2))\n",
    "a[:,0]"
   ]
  },
  {
   "cell_type": "code",
   "execution_count": 65,
   "metadata": {
    "collapsed": false
   },
   "outputs": [
    {
     "data": {
      "text/plain": [
       "array([], dtype=int32)"
      ]
     },
     "execution_count": 65,
     "metadata": {},
     "output_type": "execute_result"
    }
   ],
   "source": [
    "numpy.arange(5,2)"
   ]
  },
  {
   "cell_type": "code",
   "execution_count": 76,
   "metadata": {
    "collapsed": false
   },
   "outputs": [],
   "source": [
    "a=numpy.array([[i,2] for i in numpy.arange(1,5)])"
   ]
  },
  {
   "cell_type": "code",
   "execution_count": 83,
   "metadata": {
    "collapsed": false
   },
   "outputs": [
    {
     "data": {
      "text/plain": [
       "array([[1, 2],\n",
       "       [2, 2],\n",
       "       [3, 2],\n",
       "       [4, 2],\n",
       "       [1, 2],\n",
       "       [2, 2],\n",
       "       [3, 2],\n",
       "       [4, 2]])"
      ]
     },
     "execution_count": 83,
     "metadata": {},
     "output_type": "execute_result"
    }
   ],
   "source": [
    "numpy.concatenate([a,a])"
   ]
  },
  {
   "cell_type": "code",
   "execution_count": null,
   "metadata": {
    "collapsed": true
   },
   "outputs": [],
   "source": []
  }
 ],
 "metadata": {
  "kernelspec": {
   "display_name": "Python 2",
   "language": "python",
   "name": "python2"
  },
  "language_info": {
   "codemirror_mode": {
    "name": "ipython",
    "version": 2
   },
   "file_extension": ".py",
   "mimetype": "text/x-python",
   "name": "python",
   "nbconvert_exporter": "python",
   "pygments_lexer": "ipython2",
   "version": "2.7.11"
  }
 },
 "nbformat": 4,
 "nbformat_minor": 0
}
