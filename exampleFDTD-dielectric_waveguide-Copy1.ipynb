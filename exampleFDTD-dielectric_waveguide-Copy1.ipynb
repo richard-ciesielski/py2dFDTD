{
 "cells": [
  {
   "cell_type": "markdown",
   "metadata": {},
   "source": [
    "# Two dimensional FDTD code for constant dielectric materials"
   ]
  },
  {
   "cell_type": "code",
   "execution_count": 1,
   "metadata": {
    "collapsed": true
   },
   "outputs": [],
   "source": [
    "\"\"\"2D FDTD with YEE-Algorithmus: leapfrog and staggered grid according to \n",
    "    Taflove's book\n",
    "    - in vacuum with Debye material\n",
    "    - BC: PEC and PML\n",
    "    - TE-mode\n",
    "\n",
    "Richard Ciesielski\n",
    "\"\"\"\n",
    "%load_ext autoreload\n",
    "%autoreload 2\n",
    "\n",
    "import numpy\n",
    "from numpy import pi\n",
    "import pylab\n",
    "%matplotlib inline\n",
    "\n",
    "# Simulation libraries:\n",
    "import fdtd_core as core\n",
    "import fdtd_excitations as exc\n",
    "import fdtd_objects as obj\n",
    "import fdtd_visualization as vis\n"
   ]
  },
  {
   "cell_type": "markdown",
   "metadata": {},
   "source": [
    "## Simulation with a dielectric scatterer"
   ]
  },
  {
   "cell_type": "code",
   "execution_count": null,
   "metadata": {},
   "outputs": [
    {
     "name": "stdout",
     "output_type": "stream",
     "text": [
      "number of nodes : 301 x 185 = 55685 \t time step : 0.0505550402402 \t cycles : 1485\n",
      "simulation time left:  75 fs\n",
      "simulation time left:  67 fs\n",
      "simulation time left:  60 fs\n",
      "simulation time left:  52 fs\n",
      "simulation time left:  45 fs\n",
      "simulation time left:  37 fs\n",
      "simulation time left:  30 fs\n"
     ]
    }
   ],
   "source": [
    "# create a mesh:\n",
    "lengthx = 13.\n",
    "lengthy = 8.\n",
    "Nx = 301                            # number of nodes for the E-field\n",
    "dx = lengthx / (Nx - 1)\n",
    "Ny =  int(lengthy / dx + 1)\n",
    "lengthy = (Ny - 1) * dx             # adjust the length\n",
    "\n",
    "# produce a staggered grid with NxN nodes:\n",
    "grid = core.staggered_grid_2D_simple(lengthx, lengthy, Nx, Ny)\n",
    "\n",
    "# add PMLs:\n",
    "grid.addPML(1.5, \"right\", 11., \"full\")\n",
    "grid.addPML(1.5, \"left\", 11., \"full\")\n",
    "grid.addPML(1.5, \"up\", 11.)\n",
    "grid.addPML(1.5, \"down\", 11.)\n",
    "\n",
    "# add scatterer:\n",
    "#obj.addDielectricCircle(grid, \n",
    "#    x=3, y=3, R=0.75, n = 2.5)\n",
    "\n",
    "n = 1.5 # refractive index of the waveguide\n",
    "\n",
    "# starting point of the waveguide\n",
    "i0 = int(4.5 / lengthy * Ny)\n",
    "i1 = int(5.5 / lengthy * Ny)\n",
    "\n",
    "# add excitation:\n",
    "excitations = []\n",
    "excitations.append(exc.PWleft_Exc(H=1, T=1/grid.c0, a=1.5, i0=i0, i1=i1))\n",
    "\n",
    "j0 = int(0 / lengthx * Nx)\n",
    "j1 = int(7.5 / lengthx * Nx)\n",
    "\n",
    "# straight waveguide\n",
    "grid.Eps[i0:i1,j0:j1]*= n**2\n",
    "\n",
    "# starting point of the 2nd waveguide\n",
    "i0 = int(2.5 / lengthy * Ny)\n",
    "i1 = int(3.5 / lengthy * Ny)\n",
    "j0 = int(6.5 / lengthx * Nx)\n",
    "j1 = int(13 / lengthx * Nx)\n",
    "\n",
    "# straight waveguide\n",
    "grid.Eps[i0:i1,j0:j1]*= n**2\n",
    "\n",
    "# starting point of the 3rd waveguide\n",
    "i0 = int(2.5 / lengthy * Ny)\n",
    "i1 = int(5.5 / lengthy * Ny)\n",
    "j0 = int(6.5 / lengthx * Nx)\n",
    "j1 = int(7.5 / lengthx * Nx)\n",
    "\n",
    "# straight waveguide\n",
    "grid.Eps[i0:i1,j0:j1]*= n**2\n",
    "\n",
    "dt = grid.dt / 2\n",
    "grid.dt = dt\n",
    "\n",
    "t, t_end = 0, 75.1                 # duration of the simulation\n",
    "cycles = int((t_end - t) / dt)      # total number of cycles\n",
    "time = numpy.linspace(t, t_end, cycles)\n",
    "\n",
    "print \"number of nodes :\",Nx, \"x\", Ny,\"=\", Nx*Ny, \\\n",
    "        \"\\t time step :\",dt,  \"\\t cycles :\", cycles\n",
    "\n",
    "# list of snapshot times\n",
    "t_list = numpy.linspace(t, t_end-2*dt, 6)\n",
    "S_list = []\n",
    "\n",
    "for i in xrange(cycles):             # main loop\n",
    "    grid.Ex, grid.Ey, grid.Hz = \\\n",
    "            core.CalculationStep_simple(grid, t, excitations)\n",
    "    \n",
    "    # keep a snapshot\n",
    "    for t0 in t_list:\n",
    "        if abs(t-t0) < dt / 2:\n",
    "            # calculate the actual absolute value of the Poynting vector:\n",
    "            S = numpy.sqrt((grid.Ey* grid.Hz[:, :-1])**2 + \n",
    "                                 (grid.Ex[:-1, :-1]  * grid.Hz[:, :-1])**2)\n",
    "            S_list.append(S)\n",
    "    \n",
    "    # print progress:\n",
    "    if cycles > 20:\n",
    "        if i % int(cycles / 10) == 0: print \"simulation time left: \", int(t_end - t), \"fs\"\n",
    "            \n",
    "    t = t + dt\n",
    "\n",
    "print \"done\"\n",
    "\n",
    "# now plot the snapshots\n",
    "n = len(S_list)\n",
    "\n",
    "norm = 0.\n",
    "for i in range(n):\n",
    "    if norm < S_list[i].max():\n",
    "        norm = S_list[i].max()\n",
    "\n",
    "pylab.figure(figsize=(15,3))\n",
    "for i in range(1,n):\n",
    "    pylab.subplot(1,n-1,i)\n",
    "    vis.plot_matrix(S_list[i], grid, 0)\n",
    "    #pylab.clim(0, norm)\n",
    "    pylab.axis('off')\n",
    "    pylab.title(str(int(t_list[i])) +' fs')\n"
   ]
  },
  {
   "cell_type": "code",
   "execution_count": 59,
   "metadata": {},
   "outputs": [
    {
     "data": {
      "text/plain": [
       "<matplotlib.colorbar.Colorbar at 0x131df7f0>"
      ]
     },
     "execution_count": 59,
     "metadata": {},
     "output_type": "execute_result"
    },
    {
     "data": {
      "image/png": "[encoded data removed]",
      "text/plain": [
       "<matplotlib.figure.Figure at 0xe0c36a0>"
      ]
     },
     "metadata": {},
     "output_type": "display_data"
    }
   ],
   "source": [
    "pylab.imshow(grid.Eps)\n",
    "pylab.colorbar()"
   ]
  },
  {
   "cell_type": "code",
   "execution_count": 12,
   "metadata": {},
   "outputs": [
    {
     "data": {
      "text/plain": [
       "104.41053511705685"
      ]
     },
     "execution_count": 12,
     "metadata": {},
     "output_type": "execute_result"
    }
   ],
   "source": [
    "i0"
   ]
  },
  {
   "cell_type": "code",
   "execution_count": 55,
   "metadata": {},
   "outputs": [
    {
     "data": {
      "text/plain": [
       "<matplotlib.image.AxesImage at 0x1271c550>"
      ]
     },
     "execution_count": 55,
     "metadata": {},
     "output_type": "execute_result"
    },
    {
     "data": {
      "image/png": "[encoded data removed]",
      "text/plain": [
       "<matplotlib.figure.Figure at 0x118de828>"
      ]
     },
     "metadata": {},
     "output_type": "display_data"
    }
   ],
   "source": [
    "vis.plot_matrix(S_list[5], grid, 1)"
   ]
  },
  {
   "cell_type": "code",
   "execution_count": 51,
   "metadata": {},
   "outputs": [
    {
     "data": {
      "text/plain": [
       "0.41912401287537693"
      ]
     },
     "execution_count": 51,
     "metadata": {},
     "output_type": "execute_result"
    }
   ],
   "source": [
    "S_list[5].sum()\n"
   ]
  },
  {
   "cell_type": "code",
   "execution_count": null,
   "metadata": {
    "collapsed": true
   },
   "outputs": [],
   "source": []
  }
 ],
 "metadata": {
  "kernelspec": {
   "display_name": "Python 2",
   "language": "python",
   "name": "python2"
  },
  "language_info": {
   "codemirror_mode": {
    "name": "ipython",
    "version": 2
   },
   "file_extension": ".py",
   "mimetype": "text/x-python",
   "name": "python",
   "nbconvert_exporter": "python",
   "pygments_lexer": "ipython2",
   "version": "2.7.13"
  }
 },
 "nbformat": 4,
 "nbformat_minor": 1
}
